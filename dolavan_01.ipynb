{
  "nbformat": 4,
  "nbformat_minor": 0,
  "metadata": {
    "colab": {
      "name": "dolavan_01.ipynb",
      "provenance": [],
      "collapsed_sections": [],
      "authorship_tag": "ABX9TyPcNpAPnFPKw5QnGRYCnJrE",
      "include_colab_link": true
    },
    "kernelspec": {
      "name": "python3",
      "display_name": "Python 3"
    }
  },
  "cells": [
    {
      "cell_type": "markdown",
      "metadata": {
        "id": "view-in-github",
        "colab_type": "text"
      },
      "source": [
        "<a href=\"https://colab.research.google.com/github/dolavan/repo01/blob/master/dolavan_01.ipynb\" target=\"_parent\"><img src=\"https://colab.research.google.com/assets/colab-badge.svg\" alt=\"Open In Colab\"/></a>"
      ]
    },
    {
      "cell_type": "code",
      "metadata": {
        "id": "KVrw3fG3wk_n",
        "colab_type": "code",
        "colab": {
          "base_uri": "https://localhost:8080/",
          "height": 68
        },
        "outputId": "247e86e2-2790-417a-e256-554793bb7a9a"
      },
      "source": [
        "### isto é um comando de saida \n",
        "print(\"ola mundo cruel\")\n",
        "print(\"cruel word!!!\")\n",
        "print(\"'com aspas duplas'\")\n",
        "\n",
        "# a hastag é um comentario no código, ou seja, o programa nao ira processar nenhuma limha que tiver marcada\n",
        "# o comando print() mostra na tela ou seja, é uma saida de valor(es).\n",
        "# O conteudo texto deve estar entre aspas (simples ou duplas)"
      ],
      "execution_count": null,
      "outputs": [
        {
          "output_type": "stream",
          "text": [
            "ola mundo cruel\n",
            "cruel word!!!\n",
            "'com aspas duplas'\n"
          ],
          "name": "stdout"
        }
      ]
    },
    {
      "cell_type": "code",
      "metadata": {
        "id": "KrJd2BWa5Jmw",
        "colab_type": "code",
        "colab": {}
      },
      "source": [
        ""
      ],
      "execution_count": null,
      "outputs": []
    },
    {
      "cell_type": "markdown",
      "metadata": {
        "id": "OCMcPHqY4ltn",
        "colab_type": "text"
      },
      "source": [
        "Esta é uma celula somente de texto.\n",
        "aqui posso fazer formatacoes"
      ]
    }
  ]
}